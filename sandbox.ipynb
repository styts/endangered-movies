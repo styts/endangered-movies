{
 "metadata": {
  "name": "sandbox"
 },
 "nbformat": 3,
 "nbformat_minor": 0,
 "worksheets": [
  {
   "cells": [
    {
     "cell_type": "code",
     "collapsed": false,
     "input": [
      "from imdb import IMDb\n",
      "ia = IMDb()"
     ],
     "language": "python",
     "metadata": {},
     "outputs": [],
     "prompt_number": 22
    },
    {
     "cell_type": "code",
     "collapsed": false,
     "input": [
      "movie = ia.search_movie('Incredibles', 1)[0]\n",
      "movie"
     ],
     "language": "python",
     "metadata": {},
     "outputs": [
      {
       "output_type": "pyout",
       "prompt_number": 37,
       "text": [
        "<Movie id:0317705[http] title:_The Incredibles (2004)_>"
       ]
      }
     ],
     "prompt_number": 37
    },
    {
     "cell_type": "code",
     "collapsed": false,
     "input": [
      "from collections import namedtuple\n",
      "\n",
      "TorrentRecord = namedtuple('TorrentRecord', 'magnet, title, category, url, torrent')\n",
      "\n",
      "lines = open('data/movies_small.txt').readlines()"
     ],
     "language": "python",
     "metadata": {},
     "outputs": [],
     "prompt_number": "*"
    },
    {
     "cell_type": "code",
     "collapsed": false,
     "input": [
      "torrent_records = map(lambda l: TorrentRecord(*l.strip('\\n').split('|')), lines)"
     ],
     "language": "python",
     "metadata": {},
     "outputs": [],
     "prompt_number": 59
    },
    {
     "cell_type": "code",
     "collapsed": false,
     "input": [
      "torrent_records = filter(lambda tr: \"Video Movies\" == tr.category, torrent_records)\n",
      "titles = map(lambda tr: tr.title, torrent_records)"
     ],
     "language": "python",
     "metadata": {},
     "outputs": [],
     "prompt_number": 84
    },
    {
     "cell_type": "code",
     "collapsed": false,
     "input": [
      "from collections import Counter\n",
      "\n",
      "words = []\n",
      "for t in titles:\n",
      "    words += t.split(' ')\n",
      "    \n",
      "counter = Counter(words)"
     ],
     "language": "python",
     "metadata": {},
     "outputs": [],
     "prompt_number": 85
    },
    {
     "cell_type": "code",
     "collapsed": false,
     "input": [
      "counter.most_common(100)"
     ],
     "language": "python",
     "metadata": {},
     "outputs": [
      {
       "output_type": "pyout",
       "prompt_number": 93,
       "text": [
        "[('2013', 115),\n",
        " ('The', 62),\n",
        " ('DVDRip', 37),\n",
        " ('XviD', 37),\n",
        " ('-', 37),\n",
        " ('Jaybob', 27),\n",
        " ('(2013)', 23),\n",
        " ('', 18),\n",
        " ('AC3', 17),\n",
        " ('BluRay', 16),\n",
        " ('BDRip', 16),\n",
        " ('2', 16),\n",
        " ('BRRip', 14),\n",
        " ('x264', 13),\n",
        " ('2012', 12),\n",
        " ('HDRIP', 12),\n",
        " ('of', 12),\n",
        " ('Xvid', 11),\n",
        " ('WEB-DL', 11),\n",
        " ('XViD', 11),\n",
        " ('720p', 11),\n",
        " ('DVDRIP', 10),\n",
        " ('x264-[ASN', 10),\n",
        " ('Indastris]', 10),\n",
        " ('/', 10),\n",
        " ('1080p', 9),\n",
        " ('CAM', 9),\n",
        " ('XVID', 9),\n",
        " ('[PublicHD]', 9),\n",
        " ('DVDRiP', 8),\n",
        " ('Riddick', 8),\n",
        " ('WEBRIP', 7),\n",
        " ('I', 7),\n",
        " ('FRENCH', 7),\n",
        " ('World', 6),\n",
        " ('Next', 6),\n",
        " ('Monsters', 6),\n",
        " ('and', 6),\n",
        " ('French', 6),\n",
        " ('East', 5),\n",
        " ('Percy', 5),\n",
        " ('Mortal', 5),\n",
        " ('Tapo', 5),\n",
        " ('Z', 5),\n",
        " ('Rip', 5),\n",
        " ('H264-PublicHD', 5),\n",
        " ('Jackson', 5),\n",
        " ('Youre', 5),\n",
        " ('DVD', 5),\n",
        " ('City', 5),\n",
        " ('Bones', 5),\n",
        " ('Getaway', 4),\n",
        " ('Pacific', 4),\n",
        " ('RMVB', 4),\n",
        " ('2013.1080p', 4),\n",
        " ('Gain', 4),\n",
        " ('A', 4),\n",
        " ('Planes', 4),\n",
        " ('Sea', 4),\n",
        " ('Instruments', 4),\n",
        " ('Prisoners', 4),\n",
        " ('Rim', 4),\n",
        " ('3', 4),\n",
        " ('TMB', 4),\n",
        " ('War', 4),\n",
        " ('KINGDOM', 4),\n",
        " ('Pain', 4),\n",
        " ('And', 4),\n",
        " ('DVDR', 4),\n",
        " ('DVDSCR', 4),\n",
        " ('Of', 4),\n",
        " ('mkv', 4),\n",
        " ('Blackfish', 4),\n",
        " ('To', 4),\n",
        " ('Dark', 4),\n",
        " ('Dublado', 4),\n",
        " ('P', 3),\n",
        " ('Ring', 3),\n",
        " ('Romance', 3),\n",
        " ('DTS', 3),\n",
        " ('Red', 3),\n",
        " ('REL', 3),\n",
        " ('&', 3),\n",
        " ('Subs', 3),\n",
        " ('Your', 3),\n",
        " ('La', 3),\n",
        " ('Spit', 3),\n",
        " ('1', 3),\n",
        " ('2011', 3),\n",
        " ('Grave', 3),\n",
        " ('ARTEFAC', 3),\n",
        " ('Bling', 3),\n",
        " ('Indastris', 3),\n",
        " ('DVDrip', 3),\n",
        " ('ASN', 3),\n",
        " ('Cinemania', 3),\n",
        " ('R', 3),\n",
        " ('2013.720p', 3),\n",
        " ('Hunger', 3),\n",
        " ('Games', 3)]"
       ]
      }
     ],
     "prompt_number": 93
    }
   ],
   "metadata": {}
  }
 ]
}